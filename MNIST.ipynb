{
 "cells": [
  {
   "cell_type": "markdown",
   "id": "b6c7e8c5-9f5b-4663-abd7-76d0d1a614e1",
   "metadata": {
    "tags": []
   },
   "source": [
    "# **MNIST Dataset** 🔢\n",
    "\n",
    "### Introduction\n",
    "The **MNIST** dataset is an acronym that stands for the **Modified National Institute of Standards and Technology** and it's the “Hello World” dataset of computer vision.\n",
    "The dataset consists of 70000 pictures of handwritten digits (60000 training images and 10000 test images) each containing 28 * 28 pixels.\n",
    "\n",
    "The goal of this notebook is to build a simple neural network to predict digits from handwritten images using Keras (with TensorFlow as the backend).Particularly, I will be using Keras' Functional Model API to build my neural network model.\n",
    "\n",
    "My first step was to create a 6 layer model (4 hidden layers and two input and output layers) with a stochastic gradient descent optimizer.In my next model, I switched to Adam and finally, I used dropout layers in the final model to avoid overfitting."
   ]
  },
  {
   "cell_type": "markdown",
   "id": "dce188d0-80c1-4bbc-9344-8fc1676cdac8",
   "metadata": {},
   "source": [
    "### Import libraries and read data"
   ]
  },
  {
   "cell_type": "code",
   "execution_count": 1,
   "id": "e52fdaa5-fb87-45f6-8f68-191bdcd65437",
   "metadata": {
    "tags": []
   },
   "outputs": [],
   "source": [
    "import pandas as pd \n",
    "\n",
    "from tensorflow import keras\n",
    "from keras.models import Model\n",
    "from keras.layers import *\n",
    "\n",
    "from sklearn.model_selection import train_test_split"
   ]
  },
  {
   "cell_type": "code",
   "execution_count": 2,
   "id": "ea18ae73-3ac2-4e1c-b64e-b67fa1d52096",
   "metadata": {},
   "outputs": [
    {
     "name": "stdout",
     "output_type": "stream",
     "text": [
      "Shape of training data:  (60000, 785)\n",
      "Shape of test data:  (10000, 785)\n"
     ]
    }
   ],
   "source": [
    "train_df = pd.read_csv('./Dataset/mnist_train.csv')\n",
    "test_df = pd.read_csv('./Dataset/mnist_test.csv')\n",
    "\n",
    "print('Shape of training data: ', train_df.shape)\n",
    "print('Shape of test data: ', test_df.shape)"
   ]
  },
  {
   "cell_type": "markdown",
   "id": "e7dbc7a8-1bea-4adb-8710-a08bedafb38e",
   "metadata": {},
   "source": [
    "Our dataset is a csv file format with 785 features, one of which is our target and the rest are image pixels."
   ]
  },
  {
   "cell_type": "code",
   "execution_count": 3,
   "id": "80af2d96-a6ed-4d1d-bc0c-4f58e12bfdec",
   "metadata": {
    "tags": []
   },
   "outputs": [
    {
     "data": {
      "text/html": [
       "<div>\n",
       "<style scoped>\n",
       "    .dataframe tbody tr th:only-of-type {\n",
       "        vertical-align: middle;\n",
       "    }\n",
       "\n",
       "    .dataframe tbody tr th {\n",
       "        vertical-align: top;\n",
       "    }\n",
       "\n",
       "    .dataframe thead th {\n",
       "        text-align: right;\n",
       "    }\n",
       "</style>\n",
       "<table border=\"1\" class=\"dataframe\">\n",
       "  <thead>\n",
       "    <tr style=\"text-align: right;\">\n",
       "      <th></th>\n",
       "      <th>label</th>\n",
       "      <th>1x1</th>\n",
       "      <th>1x2</th>\n",
       "      <th>1x3</th>\n",
       "      <th>1x4</th>\n",
       "      <th>1x5</th>\n",
       "      <th>1x6</th>\n",
       "      <th>1x7</th>\n",
       "      <th>1x8</th>\n",
       "      <th>1x9</th>\n",
       "      <th>...</th>\n",
       "      <th>28x19</th>\n",
       "      <th>28x20</th>\n",
       "      <th>28x21</th>\n",
       "      <th>28x22</th>\n",
       "      <th>28x23</th>\n",
       "      <th>28x24</th>\n",
       "      <th>28x25</th>\n",
       "      <th>28x26</th>\n",
       "      <th>28x27</th>\n",
       "      <th>28x28</th>\n",
       "    </tr>\n",
       "  </thead>\n",
       "  <tbody>\n",
       "    <tr>\n",
       "      <th>0</th>\n",
       "      <td>5</td>\n",
       "      <td>0</td>\n",
       "      <td>0</td>\n",
       "      <td>0</td>\n",
       "      <td>0</td>\n",
       "      <td>0</td>\n",
       "      <td>0</td>\n",
       "      <td>0</td>\n",
       "      <td>0</td>\n",
       "      <td>0</td>\n",
       "      <td>...</td>\n",
       "      <td>0</td>\n",
       "      <td>0</td>\n",
       "      <td>0</td>\n",
       "      <td>0</td>\n",
       "      <td>0</td>\n",
       "      <td>0</td>\n",
       "      <td>0</td>\n",
       "      <td>0</td>\n",
       "      <td>0</td>\n",
       "      <td>0</td>\n",
       "    </tr>\n",
       "    <tr>\n",
       "      <th>1</th>\n",
       "      <td>0</td>\n",
       "      <td>0</td>\n",
       "      <td>0</td>\n",
       "      <td>0</td>\n",
       "      <td>0</td>\n",
       "      <td>0</td>\n",
       "      <td>0</td>\n",
       "      <td>0</td>\n",
       "      <td>0</td>\n",
       "      <td>0</td>\n",
       "      <td>...</td>\n",
       "      <td>0</td>\n",
       "      <td>0</td>\n",
       "      <td>0</td>\n",
       "      <td>0</td>\n",
       "      <td>0</td>\n",
       "      <td>0</td>\n",
       "      <td>0</td>\n",
       "      <td>0</td>\n",
       "      <td>0</td>\n",
       "      <td>0</td>\n",
       "    </tr>\n",
       "    <tr>\n",
       "      <th>2</th>\n",
       "      <td>4</td>\n",
       "      <td>0</td>\n",
       "      <td>0</td>\n",
       "      <td>0</td>\n",
       "      <td>0</td>\n",
       "      <td>0</td>\n",
       "      <td>0</td>\n",
       "      <td>0</td>\n",
       "      <td>0</td>\n",
       "      <td>0</td>\n",
       "      <td>...</td>\n",
       "      <td>0</td>\n",
       "      <td>0</td>\n",
       "      <td>0</td>\n",
       "      <td>0</td>\n",
       "      <td>0</td>\n",
       "      <td>0</td>\n",
       "      <td>0</td>\n",
       "      <td>0</td>\n",
       "      <td>0</td>\n",
       "      <td>0</td>\n",
       "    </tr>\n",
       "  </tbody>\n",
       "</table>\n",
       "<p>3 rows × 785 columns</p>\n",
       "</div>"
      ],
      "text/plain": [
       "   label  1x1  1x2  1x3  1x4  1x5  1x6  1x7  1x8  1x9  ...  28x19  28x20  \\\n",
       "0      5    0    0    0    0    0    0    0    0    0  ...      0      0   \n",
       "1      0    0    0    0    0    0    0    0    0    0  ...      0      0   \n",
       "2      4    0    0    0    0    0    0    0    0    0  ...      0      0   \n",
       "\n",
       "   28x21  28x22  28x23  28x24  28x25  28x26  28x27  28x28  \n",
       "0      0      0      0      0      0      0      0      0  \n",
       "1      0      0      0      0      0      0      0      0  \n",
       "2      0      0      0      0      0      0      0      0  \n",
       "\n",
       "[3 rows x 785 columns]"
      ]
     },
     "execution_count": 3,
     "metadata": {},
     "output_type": "execute_result"
    }
   ],
   "source": [
    "train_df.head(3)"
   ]
  },
  {
   "cell_type": "code",
   "execution_count": 4,
   "id": "3bb10c56-fb5b-4fdf-92a9-ddf8c26e9deb",
   "metadata": {},
   "outputs": [
    {
     "data": {
      "text/html": [
       "<div>\n",
       "<style scoped>\n",
       "    .dataframe tbody tr th:only-of-type {\n",
       "        vertical-align: middle;\n",
       "    }\n",
       "\n",
       "    .dataframe tbody tr th {\n",
       "        vertical-align: top;\n",
       "    }\n",
       "\n",
       "    .dataframe thead th {\n",
       "        text-align: right;\n",
       "    }\n",
       "</style>\n",
       "<table border=\"1\" class=\"dataframe\">\n",
       "  <thead>\n",
       "    <tr style=\"text-align: right;\">\n",
       "      <th></th>\n",
       "      <th>label</th>\n",
       "      <th>1x1</th>\n",
       "      <th>1x2</th>\n",
       "      <th>1x3</th>\n",
       "      <th>1x4</th>\n",
       "      <th>1x5</th>\n",
       "      <th>1x6</th>\n",
       "      <th>1x7</th>\n",
       "      <th>1x8</th>\n",
       "      <th>1x9</th>\n",
       "      <th>...</th>\n",
       "      <th>28x19</th>\n",
       "      <th>28x20</th>\n",
       "      <th>28x21</th>\n",
       "      <th>28x22</th>\n",
       "      <th>28x23</th>\n",
       "      <th>28x24</th>\n",
       "      <th>28x25</th>\n",
       "      <th>28x26</th>\n",
       "      <th>28x27</th>\n",
       "      <th>28x28</th>\n",
       "    </tr>\n",
       "  </thead>\n",
       "  <tbody>\n",
       "    <tr>\n",
       "      <th>0</th>\n",
       "      <td>7</td>\n",
       "      <td>0</td>\n",
       "      <td>0</td>\n",
       "      <td>0</td>\n",
       "      <td>0</td>\n",
       "      <td>0</td>\n",
       "      <td>0</td>\n",
       "      <td>0</td>\n",
       "      <td>0</td>\n",
       "      <td>0</td>\n",
       "      <td>...</td>\n",
       "      <td>0</td>\n",
       "      <td>0</td>\n",
       "      <td>0</td>\n",
       "      <td>0</td>\n",
       "      <td>0</td>\n",
       "      <td>0</td>\n",
       "      <td>0</td>\n",
       "      <td>0</td>\n",
       "      <td>0</td>\n",
       "      <td>0</td>\n",
       "    </tr>\n",
       "    <tr>\n",
       "      <th>1</th>\n",
       "      <td>2</td>\n",
       "      <td>0</td>\n",
       "      <td>0</td>\n",
       "      <td>0</td>\n",
       "      <td>0</td>\n",
       "      <td>0</td>\n",
       "      <td>0</td>\n",
       "      <td>0</td>\n",
       "      <td>0</td>\n",
       "      <td>0</td>\n",
       "      <td>...</td>\n",
       "      <td>0</td>\n",
       "      <td>0</td>\n",
       "      <td>0</td>\n",
       "      <td>0</td>\n",
       "      <td>0</td>\n",
       "      <td>0</td>\n",
       "      <td>0</td>\n",
       "      <td>0</td>\n",
       "      <td>0</td>\n",
       "      <td>0</td>\n",
       "    </tr>\n",
       "    <tr>\n",
       "      <th>2</th>\n",
       "      <td>1</td>\n",
       "      <td>0</td>\n",
       "      <td>0</td>\n",
       "      <td>0</td>\n",
       "      <td>0</td>\n",
       "      <td>0</td>\n",
       "      <td>0</td>\n",
       "      <td>0</td>\n",
       "      <td>0</td>\n",
       "      <td>0</td>\n",
       "      <td>...</td>\n",
       "      <td>0</td>\n",
       "      <td>0</td>\n",
       "      <td>0</td>\n",
       "      <td>0</td>\n",
       "      <td>0</td>\n",
       "      <td>0</td>\n",
       "      <td>0</td>\n",
       "      <td>0</td>\n",
       "      <td>0</td>\n",
       "      <td>0</td>\n",
       "    </tr>\n",
       "  </tbody>\n",
       "</table>\n",
       "<p>3 rows × 785 columns</p>\n",
       "</div>"
      ],
      "text/plain": [
       "   label  1x1  1x2  1x3  1x4  1x5  1x6  1x7  1x8  1x9  ...  28x19  28x20  \\\n",
       "0      7    0    0    0    0    0    0    0    0    0  ...      0      0   \n",
       "1      2    0    0    0    0    0    0    0    0    0  ...      0      0   \n",
       "2      1    0    0    0    0    0    0    0    0    0  ...      0      0   \n",
       "\n",
       "   28x21  28x22  28x23  28x24  28x25  28x26  28x27  28x28  \n",
       "0      0      0      0      0      0      0      0      0  \n",
       "1      0      0      0      0      0      0      0      0  \n",
       "2      0      0      0      0      0      0      0      0  \n",
       "\n",
       "[3 rows x 785 columns]"
      ]
     },
     "execution_count": 4,
     "metadata": {},
     "output_type": "execute_result"
    }
   ],
   "source": [
    "test_df.head(3)"
   ]
  },
  {
   "cell_type": "markdown",
   "id": "ce6f3484-029f-433a-a983-457acc2768ba",
   "metadata": {},
   "source": [
    "### Separate features and label  \n",
    "\n",
    "In my dataset, I separated the label from the features."
   ]
  },
  {
   "cell_type": "code",
   "execution_count": 5,
   "id": "86f29bbe-8d25-497c-b12e-aa55a2bafe8d",
   "metadata": {},
   "outputs": [],
   "source": [
    "train_features = train_df.iloc[:, 1:]\n",
    "train_labels = train_df.iloc[:, 0]\n",
    "\n",
    "test_features = test_df.iloc[:, 1:]\n",
    "test_labels = test_df.iloc[:, 0]"
   ]
  },
  {
   "cell_type": "code",
   "execution_count": 6,
   "id": "20eae14e-b9cf-4b26-a613-adc96a5b0a53",
   "metadata": {},
   "outputs": [
    {
     "data": {
      "text/html": [
       "<div>\n",
       "<style scoped>\n",
       "    .dataframe tbody tr th:only-of-type {\n",
       "        vertical-align: middle;\n",
       "    }\n",
       "\n",
       "    .dataframe tbody tr th {\n",
       "        vertical-align: top;\n",
       "    }\n",
       "\n",
       "    .dataframe thead th {\n",
       "        text-align: right;\n",
       "    }\n",
       "</style>\n",
       "<table border=\"1\" class=\"dataframe\">\n",
       "  <thead>\n",
       "    <tr style=\"text-align: right;\">\n",
       "      <th></th>\n",
       "      <th>1x1</th>\n",
       "      <th>1x2</th>\n",
       "      <th>1x3</th>\n",
       "      <th>1x4</th>\n",
       "      <th>1x5</th>\n",
       "      <th>1x6</th>\n",
       "      <th>1x7</th>\n",
       "      <th>1x8</th>\n",
       "      <th>1x9</th>\n",
       "      <th>1x10</th>\n",
       "      <th>...</th>\n",
       "      <th>28x19</th>\n",
       "      <th>28x20</th>\n",
       "      <th>28x21</th>\n",
       "      <th>28x22</th>\n",
       "      <th>28x23</th>\n",
       "      <th>28x24</th>\n",
       "      <th>28x25</th>\n",
       "      <th>28x26</th>\n",
       "      <th>28x27</th>\n",
       "      <th>28x28</th>\n",
       "    </tr>\n",
       "  </thead>\n",
       "  <tbody>\n",
       "    <tr>\n",
       "      <th>0</th>\n",
       "      <td>0</td>\n",
       "      <td>0</td>\n",
       "      <td>0</td>\n",
       "      <td>0</td>\n",
       "      <td>0</td>\n",
       "      <td>0</td>\n",
       "      <td>0</td>\n",
       "      <td>0</td>\n",
       "      <td>0</td>\n",
       "      <td>0</td>\n",
       "      <td>...</td>\n",
       "      <td>0</td>\n",
       "      <td>0</td>\n",
       "      <td>0</td>\n",
       "      <td>0</td>\n",
       "      <td>0</td>\n",
       "      <td>0</td>\n",
       "      <td>0</td>\n",
       "      <td>0</td>\n",
       "      <td>0</td>\n",
       "      <td>0</td>\n",
       "    </tr>\n",
       "    <tr>\n",
       "      <th>1</th>\n",
       "      <td>0</td>\n",
       "      <td>0</td>\n",
       "      <td>0</td>\n",
       "      <td>0</td>\n",
       "      <td>0</td>\n",
       "      <td>0</td>\n",
       "      <td>0</td>\n",
       "      <td>0</td>\n",
       "      <td>0</td>\n",
       "      <td>0</td>\n",
       "      <td>...</td>\n",
       "      <td>0</td>\n",
       "      <td>0</td>\n",
       "      <td>0</td>\n",
       "      <td>0</td>\n",
       "      <td>0</td>\n",
       "      <td>0</td>\n",
       "      <td>0</td>\n",
       "      <td>0</td>\n",
       "      <td>0</td>\n",
       "      <td>0</td>\n",
       "    </tr>\n",
       "    <tr>\n",
       "      <th>2</th>\n",
       "      <td>0</td>\n",
       "      <td>0</td>\n",
       "      <td>0</td>\n",
       "      <td>0</td>\n",
       "      <td>0</td>\n",
       "      <td>0</td>\n",
       "      <td>0</td>\n",
       "      <td>0</td>\n",
       "      <td>0</td>\n",
       "      <td>0</td>\n",
       "      <td>...</td>\n",
       "      <td>0</td>\n",
       "      <td>0</td>\n",
       "      <td>0</td>\n",
       "      <td>0</td>\n",
       "      <td>0</td>\n",
       "      <td>0</td>\n",
       "      <td>0</td>\n",
       "      <td>0</td>\n",
       "      <td>0</td>\n",
       "      <td>0</td>\n",
       "    </tr>\n",
       "  </tbody>\n",
       "</table>\n",
       "<p>3 rows × 784 columns</p>\n",
       "</div>"
      ],
      "text/plain": [
       "   1x1  1x2  1x3  1x4  1x5  1x6  1x7  1x8  1x9  1x10  ...  28x19  28x20  \\\n",
       "0    0    0    0    0    0    0    0    0    0     0  ...      0      0   \n",
       "1    0    0    0    0    0    0    0    0    0     0  ...      0      0   \n",
       "2    0    0    0    0    0    0    0    0    0     0  ...      0      0   \n",
       "\n",
       "   28x21  28x22  28x23  28x24  28x25  28x26  28x27  28x28  \n",
       "0      0      0      0      0      0      0      0      0  \n",
       "1      0      0      0      0      0      0      0      0  \n",
       "2      0      0      0      0      0      0      0      0  \n",
       "\n",
       "[3 rows x 784 columns]"
      ]
     },
     "execution_count": 6,
     "metadata": {},
     "output_type": "execute_result"
    }
   ],
   "source": [
    "train_features.head(3)"
   ]
  },
  {
   "cell_type": "code",
   "execution_count": 7,
   "id": "329d81a6-237a-4adf-8d96-fd3aa08bd216",
   "metadata": {},
   "outputs": [
    {
     "data": {
      "text/plain": [
       "0    5\n",
       "1    0\n",
       "2    4\n",
       "3    1\n",
       "4    9\n",
       "Name: label, dtype: int64"
      ]
     },
     "execution_count": 7,
     "metadata": {},
     "output_type": "execute_result"
    }
   ],
   "source": [
    "train_labels.head()"
   ]
  },
  {
   "cell_type": "markdown",
   "id": "20096a2f-e0d2-4d4d-9c9e-327f2e704327",
   "metadata": {},
   "source": [
    "### Divide the training data into the training and validation sets\n",
    "\n",
    "15% of the training data was used for validation and the rest for training."
   ]
  },
  {
   "cell_type": "code",
   "execution_count": 8,
   "id": "7d1abf73-5585-4a56-a39e-5cf931252398",
   "metadata": {},
   "outputs": [],
   "source": [
    "X_train, X_validation , y_train, y_validation = train_test_split(\n",
    "    train_features, \n",
    "    train_labels,\n",
    "    test_size=0.15, \n",
    "    random_state=42\n",
    ")"
   ]
  },
  {
   "cell_type": "markdown",
   "id": "391b64c8-a74c-4323-bf8f-86431f4ca25f",
   "metadata": {},
   "source": [
    "### Data Preprocessing"
   ]
  },
  {
   "cell_type": "markdown",
   "id": "81ff4234-640d-48a6-82f9-6729ac230201",
   "metadata": {},
   "source": [
    "As a result of reading the csv files in pandas, my datasets are pandas dataframes. I used to_numpy() to convert pandas dataframe to numpy ndarray aslo I changed data types to 'float32'.\n",
    "\n",
    "The dataset consists of grayscale pictures(each pixel has a value between 1 and 255), for normalizing the data I divided each value to 255."
   ]
  },
  {
   "cell_type": "code",
   "execution_count": 9,
   "id": "6820c9db-ca2f-411c-89b3-269dd6c9a0ee",
   "metadata": {},
   "outputs": [],
   "source": [
    "X_train = X_train.to_numpy().astype('float32') / 255.0\n",
    "X_validation = X_validation.to_numpy().astype('float32') / 255.0\n",
    "X_test = test_features.to_numpy().astype('float32') / 255.0"
   ]
  },
  {
   "cell_type": "markdown",
   "id": "43754006-74e4-4b5f-8124-2c7cd08e8229",
   "metadata": {},
   "source": [
    "Also I used to_categorical() to one hot encode the labels into 10 categories(from digit 0 to 9)."
   ]
  },
  {
   "cell_type": "code",
   "execution_count": 10,
   "id": "e83c5ea9-d5c9-4819-9d52-620b0f5d5da5",
   "metadata": {},
   "outputs": [],
   "source": [
    "y_train = keras.utils.to_categorical(y_train, 10)\n",
    "y_validation = keras.utils.to_categorical(y_validation, 10)\n",
    "y_test = keras.utils.to_categorical(test_labels, 10)"
   ]
  },
  {
   "cell_type": "markdown",
   "id": "80df8de6-48e2-4665-a54b-160b17d5b77b",
   "metadata": {},
   "source": [
    "## Train Model ✅"
   ]
  },
  {
   "cell_type": "markdown",
   "id": "27bfa94a-4ef2-4c53-9b8f-bc3d8e0493f2",
   "metadata": {},
   "source": [
    "### Model 1\n",
    "Simple Neural Network with 4 hidden layers (200, 150, 100, 100) and stochastic gradient descent optimizer."
   ]
  },
  {
   "cell_type": "code",
   "execution_count": 11,
   "id": "a4c6ef08-08a1-4ae7-9765-b60ef780fee7",
   "metadata": {},
   "outputs": [
    {
     "name": "stdout",
     "output_type": "stream",
     "text": [
      "Metal device set to: Apple M1\n"
     ]
    },
    {
     "name": "stderr",
     "output_type": "stream",
     "text": [
      "2022-05-17 14:24:21.222482: I tensorflow/core/common_runtime/pluggable_device/pluggable_device_factory.cc:305] Could not identify NUMA node of platform GPU ID 0, defaulting to 0. Your kernel may not have been built with NUMA support.\n",
      "2022-05-17 14:24:21.222757: I tensorflow/core/common_runtime/pluggable_device/pluggable_device_factory.cc:271] Created TensorFlow device (/job:localhost/replica:0/task:0/device:GPU:0 with 0 MB memory) -> physical PluggableDevice (device: 0, name: METAL, pci bus id: <undefined>)\n"
     ]
    }
   ],
   "source": [
    "input = Input(shape=(784,))\n",
    "x = Dense(200, activation='relu', name='Hidden-Layer-1')(input)\n",
    "x = Dense(150, activation='relu', name='Hidden-Layer-2')(x)\n",
    "x = Dense(100, activation='relu', name='Hidden-Layer-3')(x)\n",
    "x = Dense(100, activation='relu', name='Hidden-Layer-4')(x)\n",
    "output = Dense(10, activation='softmax', name='Output-Layer')(x)"
   ]
  },
  {
   "cell_type": "code",
   "execution_count": 12,
   "id": "e6549813-aa4a-4f30-a61d-e018d3951388",
   "metadata": {},
   "outputs": [
    {
     "name": "stdout",
     "output_type": "stream",
     "text": [
      "Model: \"Model-1\"\n",
      "_________________________________________________________________\n",
      " Layer (type)                Output Shape              Param #   \n",
      "=================================================================\n",
      " input_1 (InputLayer)        [(None, 784)]             0         \n",
      "                                                                 \n",
      " Hidden-Layer-1 (Dense)      (None, 200)               157000    \n",
      "                                                                 \n",
      " Hidden-Layer-2 (Dense)      (None, 150)               30150     \n",
      "                                                                 \n",
      " Hidden-Layer-3 (Dense)      (None, 100)               15100     \n",
      "                                                                 \n",
      " Hidden-Layer-4 (Dense)      (None, 100)               10100     \n",
      "                                                                 \n",
      " Output-Layer (Dense)        (None, 10)                1010      \n",
      "                                                                 \n",
      "=================================================================\n",
      "Total params: 213,360\n",
      "Trainable params: 213,360\n",
      "Non-trainable params: 0\n",
      "_________________________________________________________________\n"
     ]
    }
   ],
   "source": [
    "model_1 = Model(inputs=input, outputs=output, name='Model-1')\n",
    "model_1.summary()"
   ]
  },
  {
   "cell_type": "code",
   "execution_count": 13,
   "id": "9d985d2e-5232-4a78-8c30-84a719c7e7f0",
   "metadata": {},
   "outputs": [],
   "source": [
    "model_1.compile(\n",
    "    loss='categorical_crossentropy',\n",
    "    optimizer='sgd',\n",
    "    metrics=['accuracy']\n",
    ")"
   ]
  },
  {
   "cell_type": "code",
   "execution_count": 14,
   "id": "a9ba0704-cb98-4aad-b9e9-25840f34a3fc",
   "metadata": {},
   "outputs": [
    {
     "name": "stdout",
     "output_type": "stream",
     "text": [
      "Epoch 1/20\n"
     ]
    },
    {
     "name": "stderr",
     "output_type": "stream",
     "text": [
      "2022-05-17 14:24:21.494705: W tensorflow/core/platform/profile_utils/cpu_utils.cc:128] Failed to get CPU frequency: 0 Hz\n",
      "2022-05-17 14:24:21.661007: I tensorflow/core/grappler/optimizers/custom_graph_optimizer_registry.cc:113] Plugin optimizer for device_type GPU is enabled.\n"
     ]
    },
    {
     "name": "stdout",
     "output_type": "stream",
     "text": [
      "504/510 [============================>.] - ETA: 0s - loss: 1.3406 - accuracy: 0.6417"
     ]
    },
    {
     "name": "stderr",
     "output_type": "stream",
     "text": [
      "2022-05-17 14:24:24.778447: I tensorflow/core/grappler/optimizers/custom_graph_optimizer_registry.cc:113] Plugin optimizer for device_type GPU is enabled.\n"
     ]
    },
    {
     "name": "stdout",
     "output_type": "stream",
     "text": [
      "510/510 [==============================] - 4s 7ms/step - loss: 1.3310 - accuracy: 0.6444 - val_loss: 0.5313 - val_accuracy: 0.8587\n",
      "Epoch 2/20\n",
      "510/510 [==============================] - 4s 7ms/step - loss: 0.4257 - accuracy: 0.8806 - val_loss: 0.3615 - val_accuracy: 0.8934\n",
      "Epoch 3/20\n",
      "510/510 [==============================] - 3s 7ms/step - loss: 0.3329 - accuracy: 0.9043 - val_loss: 0.3073 - val_accuracy: 0.9097\n",
      "Epoch 4/20\n",
      "510/510 [==============================] - 4s 7ms/step - loss: 0.2888 - accuracy: 0.9165 - val_loss: 0.2671 - val_accuracy: 0.9224\n",
      "Epoch 5/20\n",
      "510/510 [==============================] - 3s 7ms/step - loss: 0.2571 - accuracy: 0.9263 - val_loss: 0.2458 - val_accuracy: 0.9278\n",
      "Epoch 6/20\n",
      "510/510 [==============================] - 3s 7ms/step - loss: 0.2322 - accuracy: 0.9326 - val_loss: 0.2272 - val_accuracy: 0.9324\n",
      "Epoch 7/20\n",
      "510/510 [==============================] - 3s 7ms/step - loss: 0.2123 - accuracy: 0.9388 - val_loss: 0.2120 - val_accuracy: 0.9378\n",
      "Epoch 8/20\n",
      "510/510 [==============================] - 3s 7ms/step - loss: 0.1951 - accuracy: 0.9437 - val_loss: 0.1936 - val_accuracy: 0.9423\n",
      "Epoch 9/20\n",
      "510/510 [==============================] - 3s 7ms/step - loss: 0.1798 - accuracy: 0.9483 - val_loss: 0.1846 - val_accuracy: 0.9460\n",
      "Epoch 10/20\n",
      "510/510 [==============================] - 3s 7ms/step - loss: 0.1672 - accuracy: 0.9516 - val_loss: 0.1686 - val_accuracy: 0.9517\n",
      "Epoch 11/20\n",
      "510/510 [==============================] - 3s 7ms/step - loss: 0.1552 - accuracy: 0.9549 - val_loss: 0.1672 - val_accuracy: 0.9508\n",
      "Epoch 12/20\n",
      "510/510 [==============================] - 3s 7ms/step - loss: 0.1459 - accuracy: 0.9572 - val_loss: 0.1551 - val_accuracy: 0.9546\n",
      "Epoch 13/20\n",
      "510/510 [==============================] - 3s 7ms/step - loss: 0.1370 - accuracy: 0.9597 - val_loss: 0.1513 - val_accuracy: 0.9544\n",
      "Epoch 14/20\n",
      "510/510 [==============================] - 4s 7ms/step - loss: 0.1282 - accuracy: 0.9631 - val_loss: 0.1420 - val_accuracy: 0.9578\n",
      "Epoch 15/20\n",
      "510/510 [==============================] - 3s 7ms/step - loss: 0.1212 - accuracy: 0.9655 - val_loss: 0.1375 - val_accuracy: 0.9587\n",
      "Epoch 16/20\n",
      "510/510 [==============================] - 3s 7ms/step - loss: 0.1141 - accuracy: 0.9666 - val_loss: 0.1281 - val_accuracy: 0.9620\n",
      "Epoch 17/20\n",
      "510/510 [==============================] - 3s 7ms/step - loss: 0.1086 - accuracy: 0.9685 - val_loss: 0.1254 - val_accuracy: 0.9618\n",
      "Epoch 18/20\n",
      "510/510 [==============================] - 3s 7ms/step - loss: 0.1022 - accuracy: 0.9703 - val_loss: 0.1216 - val_accuracy: 0.9640\n",
      "Epoch 19/20\n",
      "510/510 [==============================] - 3s 7ms/step - loss: 0.0969 - accuracy: 0.9721 - val_loss: 0.1178 - val_accuracy: 0.9646\n",
      "Epoch 20/20\n",
      "510/510 [==============================] - 3s 7ms/step - loss: 0.0924 - accuracy: 0.9731 - val_loss: 0.1160 - val_accuracy: 0.9637\n"
     ]
    }
   ],
   "source": [
    "history_1 = model_1.fit(\n",
    "    X_train, \n",
    "    y_train, \n",
    "    epochs=20,\n",
    "    batch_size=100,\n",
    "    validation_data=(X_validation, y_validation)\n",
    ")"
   ]
  },
  {
   "cell_type": "markdown",
   "id": "0a84243e-d88f-4eda-9993-0972d59172a4",
   "metadata": {},
   "source": [
    " ### Model 2\n",
    " In my second model I trained my model with the same layers (200, 150, 100, 100) but with adam optimizer to improve my models functionality.\n",
    " as you can see the accuracy has improved."
   ]
  },
  {
   "cell_type": "code",
   "execution_count": 15,
   "id": "20422c8e-6441-49cb-b420-a52148097cc3",
   "metadata": {},
   "outputs": [
    {
     "name": "stdout",
     "output_type": "stream",
     "text": [
      "Model: \"Model-2\"\n",
      "_________________________________________________________________\n",
      " Layer (type)                Output Shape              Param #   \n",
      "=================================================================\n",
      " input_2 (InputLayer)        [(None, 784)]             0         \n",
      "                                                                 \n",
      " Hidden-Layer-1 (Dense)      (None, 200)               157000    \n",
      "                                                                 \n",
      " Hidden-Layer-2 (Dense)      (None, 150)               30150     \n",
      "                                                                 \n",
      " Hidden-Layer-3 (Dense)      (None, 100)               15100     \n",
      "                                                                 \n",
      " Hidden-Layer-4 (Dense)      (None, 100)               10100     \n",
      "                                                                 \n",
      " Otput-Layer (Dense)         (None, 10)                1010      \n",
      "                                                                 \n",
      "=================================================================\n",
      "Total params: 213,360\n",
      "Trainable params: 213,360\n",
      "Non-trainable params: 0\n",
      "_________________________________________________________________\n"
     ]
    }
   ],
   "source": [
    "input = Input(shape=(784, ))\n",
    "x = Dense(200, activation='relu', name='Hidden-Layer-1')(input)\n",
    "x = Dense(150, activation='relu', name='Hidden-Layer-2')(x)\n",
    "x = Dense(100, activation='relu', name='Hidden-Layer-3')(x)\n",
    "x = Dense(100, activation='relu', name='Hidden-Layer-4')(x)\n",
    "output = Dense(10, activation='softmax', name='Otput-Layer')(x)\n",
    "\n",
    "model_2 = Model(inputs=input, outputs=output, name='Model-2')\n",
    "model_2.summary()"
   ]
  },
  {
   "cell_type": "code",
   "execution_count": 16,
   "id": "23a39107-9b5c-4325-90b5-989939ab8f61",
   "metadata": {},
   "outputs": [],
   "source": [
    "model_2.compile(\n",
    "    loss='categorical_crossentropy',\n",
    "    optimizer='adam',\n",
    "    metrics=['accuracy']\n",
    ")"
   ]
  },
  {
   "cell_type": "code",
   "execution_count": 17,
   "id": "938a49b0-548e-4b36-b072-ed3cf2233ec0",
   "metadata": {},
   "outputs": [
    {
     "name": "stdout",
     "output_type": "stream",
     "text": [
      "Epoch 1/20\n",
      " 17/510 [>.............................] - ETA: 3s - loss: 1.7343 - accuracy: 0.5035"
     ]
    },
    {
     "name": "stderr",
     "output_type": "stream",
     "text": [
      "2022-05-17 14:25:30.278982: I tensorflow/core/grappler/optimizers/custom_graph_optimizer_registry.cc:113] Plugin optimizer for device_type GPU is enabled.\n"
     ]
    },
    {
     "name": "stdout",
     "output_type": "stream",
     "text": [
      "510/510 [==============================] - ETA: 0s - loss: 0.2943 - accuracy: 0.9125"
     ]
    },
    {
     "name": "stderr",
     "output_type": "stream",
     "text": [
      "2022-05-17 14:25:33.801204: I tensorflow/core/grappler/optimizers/custom_graph_optimizer_registry.cc:113] Plugin optimizer for device_type GPU is enabled.\n"
     ]
    },
    {
     "name": "stdout",
     "output_type": "stream",
     "text": [
      "510/510 [==============================] - 4s 8ms/step - loss: 0.2943 - accuracy: 0.9125 - val_loss: 0.1323 - val_accuracy: 0.9587\n",
      "Epoch 2/20\n",
      "510/510 [==============================] - 4s 8ms/step - loss: 0.1123 - accuracy: 0.9657 - val_loss: 0.1058 - val_accuracy: 0.9689\n",
      "Epoch 3/20\n",
      "510/510 [==============================] - 4s 7ms/step - loss: 0.0770 - accuracy: 0.9764 - val_loss: 0.0912 - val_accuracy: 0.9732\n",
      "Epoch 4/20\n",
      "510/510 [==============================] - 4s 8ms/step - loss: 0.0567 - accuracy: 0.9821 - val_loss: 0.0993 - val_accuracy: 0.9718\n",
      "Epoch 5/20\n",
      "510/510 [==============================] - 4s 8ms/step - loss: 0.0429 - accuracy: 0.9859 - val_loss: 0.1069 - val_accuracy: 0.9706\n",
      "Epoch 6/20\n",
      "510/510 [==============================] - 4s 7ms/step - loss: 0.0387 - accuracy: 0.9874 - val_loss: 0.0845 - val_accuracy: 0.9781\n",
      "Epoch 7/20\n",
      "510/510 [==============================] - 4s 8ms/step - loss: 0.0313 - accuracy: 0.9899 - val_loss: 0.0771 - val_accuracy: 0.9807\n",
      "Epoch 8/20\n",
      "510/510 [==============================] - 4s 7ms/step - loss: 0.0266 - accuracy: 0.9911 - val_loss: 0.0838 - val_accuracy: 0.9782\n",
      "Epoch 9/20\n",
      "510/510 [==============================] - 4s 7ms/step - loss: 0.0217 - accuracy: 0.9926 - val_loss: 0.1153 - val_accuracy: 0.9722\n",
      "Epoch 10/20\n",
      "510/510 [==============================] - 4s 7ms/step - loss: 0.0222 - accuracy: 0.9925 - val_loss: 0.0904 - val_accuracy: 0.9790\n",
      "Epoch 11/20\n",
      "510/510 [==============================] - 4s 7ms/step - loss: 0.0248 - accuracy: 0.9920 - val_loss: 0.0961 - val_accuracy: 0.9751\n",
      "Epoch 12/20\n",
      "510/510 [==============================] - 4s 7ms/step - loss: 0.0171 - accuracy: 0.9943 - val_loss: 0.0928 - val_accuracy: 0.9811\n",
      "Epoch 13/20\n",
      "510/510 [==============================] - 4s 7ms/step - loss: 0.0162 - accuracy: 0.9948 - val_loss: 0.0894 - val_accuracy: 0.9801\n",
      "Epoch 14/20\n",
      "510/510 [==============================] - 4s 7ms/step - loss: 0.0156 - accuracy: 0.9950 - val_loss: 0.1111 - val_accuracy: 0.9753\n",
      "Epoch 15/20\n",
      "510/510 [==============================] - 4s 7ms/step - loss: 0.0146 - accuracy: 0.9953 - val_loss: 0.0850 - val_accuracy: 0.9816\n",
      "Epoch 16/20\n",
      "510/510 [==============================] - 4s 7ms/step - loss: 0.0135 - accuracy: 0.9956 - val_loss: 0.0919 - val_accuracy: 0.9791\n",
      "Epoch 17/20\n",
      "510/510 [==============================] - 4s 7ms/step - loss: 0.0087 - accuracy: 0.9974 - val_loss: 0.0982 - val_accuracy: 0.9800\n",
      "Epoch 18/20\n",
      "510/510 [==============================] - 4s 7ms/step - loss: 0.0135 - accuracy: 0.9955 - val_loss: 0.1069 - val_accuracy: 0.9798\n",
      "Epoch 19/20\n",
      "510/510 [==============================] - 4s 7ms/step - loss: 0.0145 - accuracy: 0.9956 - val_loss: 0.1080 - val_accuracy: 0.9784\n",
      "Epoch 20/20\n",
      "510/510 [==============================] - 4s 7ms/step - loss: 0.0113 - accuracy: 0.9964 - val_loss: 0.1107 - val_accuracy: 0.9803\n"
     ]
    }
   ],
   "source": [
    "history_2 = model_2.fit(\n",
    "    X_train, \n",
    "    y_train, \n",
    "    epochs=20,\n",
    "    batch_size=100,\n",
    "    validation_data=(X_validation, y_validation)\n",
    ")"
   ]
  },
  {
   "cell_type": "markdown",
   "id": "2dbc8d83-35da-40f4-8b7a-6effc6e9cf23",
   "metadata": {},
   "source": [
    "### Model 3 \n",
    "To avoid model overfitting I used dropout layers in my final model."
   ]
  },
  {
   "cell_type": "code",
   "execution_count": 18,
   "id": "06a76368-bc85-4b33-90b4-0c23de99ec71",
   "metadata": {},
   "outputs": [
    {
     "name": "stdout",
     "output_type": "stream",
     "text": [
      "Model: \"Model-3\"\n",
      "_________________________________________________________________\n",
      " Layer (type)                Output Shape              Param #   \n",
      "=================================================================\n",
      " input_3 (InputLayer)        [(None, 784)]             0         \n",
      "                                                                 \n",
      " Hidden-Layer-1 (Dense)      (None, 200)               157000    \n",
      "                                                                 \n",
      " dropout (Dropout)           (None, 200)               0         \n",
      "                                                                 \n",
      " Hidden-Layer-2 (Dense)      (None, 150)               30150     \n",
      "                                                                 \n",
      " dropout_1 (Dropout)         (None, 150)               0         \n",
      "                                                                 \n",
      " Hidden-Layer-3 (Dense)      (None, 100)               15100     \n",
      "                                                                 \n",
      " dropout_2 (Dropout)         (None, 100)               0         \n",
      "                                                                 \n",
      " Hidden-Layer-4 (Dense)      (None, 100)               10100     \n",
      "                                                                 \n",
      " Otput-Layer (Dense)         (None, 10)                1010      \n",
      "                                                                 \n",
      "=================================================================\n",
      "Total params: 213,360\n",
      "Trainable params: 213,360\n",
      "Non-trainable params: 0\n",
      "_________________________________________________________________\n"
     ]
    }
   ],
   "source": [
    "input = Input(shape=(784, ))\n",
    "x = Dense(200, activation='relu', name='Hidden-Layer-1')(input)\n",
    "x = Dropout(0.2)(x)\n",
    "x = Dense(150, activation='relu', name='Hidden-Layer-2')(x)\n",
    "x = Dropout(0.2)(x)\n",
    "x = Dense(100, activation='relu', name='Hidden-Layer-3')(x)\n",
    "x = Dropout(0.2)(x)\n",
    "x = Dense(100, activation='relu', name='Hidden-Layer-4')(x)\n",
    "output = Dense(10, activation='softmax', name='Otput-Layer')(x)\n",
    "\n",
    "model_3 = Model(inputs=input, outputs=output, name='Model-3')\n",
    "model_3.summary()"
   ]
  },
  {
   "cell_type": "code",
   "execution_count": 19,
   "id": "05212048-312d-4787-9c02-bdb98e1e20d4",
   "metadata": {},
   "outputs": [],
   "source": [
    "model_3.compile(\n",
    "    loss='categorical_crossentropy',\n",
    "    optimizer='adam',\n",
    "    metrics=['accuracy']\n",
    ")"
   ]
  },
  {
   "cell_type": "code",
   "execution_count": 20,
   "id": "1dbc8c01-2d32-42dd-ade9-1d77b9a44719",
   "metadata": {},
   "outputs": [
    {
     "name": "stdout",
     "output_type": "stream",
     "text": [
      "Epoch 1/20\n",
      " 17/510 [>.............................] - ETA: 3s - loss: 2.0247 - accuracy: 0.3400"
     ]
    },
    {
     "name": "stderr",
     "output_type": "stream",
     "text": [
      "2022-05-17 14:26:46.767967: I tensorflow/core/grappler/optimizers/custom_graph_optimizer_registry.cc:113] Plugin optimizer for device_type GPU is enabled.\n"
     ]
    },
    {
     "name": "stdout",
     "output_type": "stream",
     "text": [
      "506/510 [============================>.] - ETA: 0s - loss: 0.4001 - accuracy: 0.8771"
     ]
    },
    {
     "name": "stderr",
     "output_type": "stream",
     "text": [
      "2022-05-17 14:26:50.414476: I tensorflow/core/grappler/optimizers/custom_graph_optimizer_registry.cc:113] Plugin optimizer for device_type GPU is enabled.\n"
     ]
    },
    {
     "name": "stdout",
     "output_type": "stream",
     "text": [
      "510/510 [==============================] - 4s 8ms/step - loss: 0.3983 - accuracy: 0.8777 - val_loss: 0.1389 - val_accuracy: 0.9566\n",
      "Epoch 2/20\n",
      "510/510 [==============================] - 4s 7ms/step - loss: 0.1575 - accuracy: 0.9524 - val_loss: 0.1123 - val_accuracy: 0.9646\n",
      "Epoch 3/20\n",
      "510/510 [==============================] - 4s 7ms/step - loss: 0.1155 - accuracy: 0.9650 - val_loss: 0.0972 - val_accuracy: 0.9697\n",
      "Epoch 4/20\n",
      "510/510 [==============================] - 4s 7ms/step - loss: 0.0948 - accuracy: 0.9713 - val_loss: 0.0840 - val_accuracy: 0.9763\n",
      "Epoch 5/20\n",
      "510/510 [==============================] - 4s 7ms/step - loss: 0.0778 - accuracy: 0.9760 - val_loss: 0.0767 - val_accuracy: 0.9766\n",
      "Epoch 6/20\n",
      "510/510 [==============================] - 4s 7ms/step - loss: 0.0684 - accuracy: 0.9782 - val_loss: 0.0947 - val_accuracy: 0.9722\n",
      "Epoch 7/20\n",
      "510/510 [==============================] - 4s 7ms/step - loss: 0.0632 - accuracy: 0.9802 - val_loss: 0.0736 - val_accuracy: 0.9789\n",
      "Epoch 8/20\n",
      "510/510 [==============================] - 4s 7ms/step - loss: 0.0592 - accuracy: 0.9811 - val_loss: 0.0764 - val_accuracy: 0.9802\n",
      "Epoch 9/20\n",
      "510/510 [==============================] - 4s 7ms/step - loss: 0.0505 - accuracy: 0.9843 - val_loss: 0.0772 - val_accuracy: 0.9803\n",
      "Epoch 10/20\n",
      "510/510 [==============================] - 4s 7ms/step - loss: 0.0475 - accuracy: 0.9855 - val_loss: 0.0775 - val_accuracy: 0.9799\n",
      "Epoch 11/20\n",
      "510/510 [==============================] - 4s 7ms/step - loss: 0.0433 - accuracy: 0.9857 - val_loss: 0.0889 - val_accuracy: 0.9781\n",
      "Epoch 12/20\n",
      "510/510 [==============================] - 4s 7ms/step - loss: 0.0433 - accuracy: 0.9863 - val_loss: 0.0865 - val_accuracy: 0.9792\n",
      "Epoch 13/20\n",
      "510/510 [==============================] - 4s 7ms/step - loss: 0.0402 - accuracy: 0.9870 - val_loss: 0.0751 - val_accuracy: 0.9808\n",
      "Epoch 14/20\n",
      "510/510 [==============================] - 4s 7ms/step - loss: 0.0363 - accuracy: 0.9886 - val_loss: 0.0913 - val_accuracy: 0.9773\n",
      "Epoch 15/20\n",
      "510/510 [==============================] - 4s 7ms/step - loss: 0.0360 - accuracy: 0.9891 - val_loss: 0.0785 - val_accuracy: 0.9810\n",
      "Epoch 16/20\n",
      "510/510 [==============================] - 4s 7ms/step - loss: 0.0326 - accuracy: 0.9893 - val_loss: 0.0821 - val_accuracy: 0.9800\n",
      "Epoch 17/20\n",
      "510/510 [==============================] - 4s 7ms/step - loss: 0.0340 - accuracy: 0.9892 - val_loss: 0.0727 - val_accuracy: 0.9832\n",
      "Epoch 18/20\n",
      "510/510 [==============================] - 4s 7ms/step - loss: 0.0301 - accuracy: 0.9901 - val_loss: 0.0864 - val_accuracy: 0.9797\n",
      "Epoch 19/20\n",
      "510/510 [==============================] - 4s 7ms/step - loss: 0.0305 - accuracy: 0.9905 - val_loss: 0.0698 - val_accuracy: 0.9829\n",
      "Epoch 20/20\n",
      "510/510 [==============================] - 4s 7ms/step - loss: 0.0262 - accuracy: 0.9914 - val_loss: 0.0775 - val_accuracy: 0.9810\n"
     ]
    }
   ],
   "source": [
    "history_3 = model_3.fit(\n",
    "    X_train, \n",
    "    y_train, \n",
    "    epochs=20,\n",
    "    batch_size=100,\n",
    "    validation_data=(X_validation, y_validation)\n",
    ")"
   ]
  },
  {
   "cell_type": "code",
   "execution_count": 23,
   "id": "058cedc7-0503-4665-92df-8df01c572ff8",
   "metadata": {},
   "outputs": [
    {
     "data": {
      "text/plain": [
       "{'loss': [0.39831963181495667,\n",
       "  0.15745437145233154,\n",
       "  0.11554968357086182,\n",
       "  0.09480706602334976,\n",
       "  0.07778573781251907,\n",
       "  0.06841371208429337,\n",
       "  0.06319032609462738,\n",
       "  0.059195686131715775,\n",
       "  0.050510697066783905,\n",
       "  0.047499485313892365,\n",
       "  0.0433037169277668,\n",
       "  0.043293070048093796,\n",
       "  0.04016260802745819,\n",
       "  0.03628402575850487,\n",
       "  0.0359664261341095,\n",
       "  0.03260982036590576,\n",
       "  0.03396379202604294,\n",
       "  0.030067596584558487,\n",
       "  0.0304805189371109,\n",
       "  0.02617982029914856],\n",
       " 'accuracy': [0.8777058720588684,\n",
       "  0.9523921608924866,\n",
       "  0.9650196433067322,\n",
       "  0.9712941646575928,\n",
       "  0.9760000109672546,\n",
       "  0.9782353043556213,\n",
       "  0.9801765084266663,\n",
       "  0.9810980558395386,\n",
       "  0.984333336353302,\n",
       "  0.9855294227600098,\n",
       "  0.9857059121131897,\n",
       "  0.9863137602806091,\n",
       "  0.9870392084121704,\n",
       "  0.988588273525238,\n",
       "  0.9890588521957397,\n",
       "  0.9892941117286682,\n",
       "  0.9891961216926575,\n",
       "  0.9901372790336609,\n",
       "  0.9905294179916382,\n",
       "  0.9914118051528931],\n",
       " 'val_loss': [0.13892154395580292,\n",
       "  0.112286277115345,\n",
       "  0.09719885885715485,\n",
       "  0.08403457701206207,\n",
       "  0.07669953256845474,\n",
       "  0.09474194794893265,\n",
       "  0.07364527881145477,\n",
       "  0.07636097818613052,\n",
       "  0.07723233103752136,\n",
       "  0.07747919112443924,\n",
       "  0.08889129012823105,\n",
       "  0.08647555112838745,\n",
       "  0.07512813806533813,\n",
       "  0.09132569283246994,\n",
       "  0.07852227240800858,\n",
       "  0.08207136392593384,\n",
       "  0.07266034930944443,\n",
       "  0.08642250299453735,\n",
       "  0.06978397816419601,\n",
       "  0.07751812785863876],\n",
       " 'val_accuracy': [0.9565555453300476,\n",
       "  0.964555561542511,\n",
       "  0.9696666598320007,\n",
       "  0.9763333201408386,\n",
       "  0.976555585861206,\n",
       "  0.9722222089767456,\n",
       "  0.9788889288902283,\n",
       "  0.980222225189209,\n",
       "  0.9803333282470703,\n",
       "  0.979888916015625,\n",
       "  0.9781111478805542,\n",
       "  0.9792222380638123,\n",
       "  0.9807778000831604,\n",
       "  0.9773333668708801,\n",
       "  0.9810000061988831,\n",
       "  0.9800000190734863,\n",
       "  0.983222246170044,\n",
       "  0.9796666502952576,\n",
       "  0.9828888773918152,\n",
       "  0.9810000061988831]}"
      ]
     },
     "execution_count": 23,
     "metadata": {},
     "output_type": "execute_result"
    }
   ],
   "source": [
    "history_3.history"
   ]
  },
  {
   "cell_type": "markdown",
   "id": "4ca5a779-0665-4f79-9c12-e20d47f8ff3c",
   "metadata": {},
   "source": [
    "## Test and save model ✅"
   ]
  },
  {
   "cell_type": "code",
   "execution_count": 25,
   "id": "7f598bdd-6f84-421e-b326-1adc419233ad",
   "metadata": {},
   "outputs": [
    {
     "name": "stdout",
     "output_type": "stream",
     "text": [
      "100/100 [==============================] - 0s 5ms/step - loss: 0.0806 - accuracy: 0.9794\n",
      "test loss, test acc:  [0.0806407481431961, 0.9794000387191772]\n"
     ]
    }
   ],
   "source": [
    "result = model_3.evaluate(X_test, y_test, batch_size=100)\n",
    "print('test loss, test acc: ', result)"
   ]
  },
  {
   "cell_type": "code",
   "execution_count": 26,
   "id": "52c68221-8c4d-4175-bde1-6ba13e03d33a",
   "metadata": {},
   "outputs": [],
   "source": [
    "model_3.save('final-model.h5')"
   ]
  }
 ],
 "metadata": {
  "kernelspec": {
   "display_name": "Python 3 (ipykernel)",
   "language": "python",
   "name": "python3"
  },
  "language_info": {
   "codemirror_mode": {
    "name": "ipython",
    "version": 3
   },
   "file_extension": ".py",
   "mimetype": "text/x-python",
   "name": "python",
   "nbconvert_exporter": "python",
   "pygments_lexer": "ipython3",
   "version": "3.9.12"
  }
 },
 "nbformat": 4,
 "nbformat_minor": 5
}
